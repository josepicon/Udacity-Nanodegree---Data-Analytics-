{
 "cells": [
  {
   "cell_type": "markdown",
   "metadata": {
    "collapsed": true
   },
   "source": [
    "# Drawing Conclusions\n",
    "Use the space below to address questions on datasets `clean_08.csv` and `clean_18.csv`. You should've created these data files in the previous section: *Fixing Data Types Pt 3*."
   ]
  },
  {
   "cell_type": "code",
   "execution_count": 1,
   "metadata": {},
   "outputs": [
    {
     "name": "stdout",
     "output_type": "stream",
     "text": [
      "<class 'pandas.core.frame.DataFrame'>\n",
      "RangeIndex: 987 entries, 0 to 986\n",
      "Data columns (total 14 columns):\n",
      "model                   987 non-null object\n",
      "displ                   987 non-null float64\n",
      "cyl                     987 non-null int64\n",
      "trans                   987 non-null object\n",
      "drive                   987 non-null object\n",
      "fuel                    987 non-null object\n",
      "cert_region             987 non-null object\n",
      "veh_class               987 non-null object\n",
      "air_pollution_score     987 non-null float64\n",
      "city_mpg                987 non-null float64\n",
      "hwy_mpg                 987 non-null float64\n",
      "cmb_mpg                 987 non-null float64\n",
      "greenhouse_gas_score    987 non-null int64\n",
      "smartway                987 non-null object\n",
      "dtypes: float64(5), int64(2), object(7)\n",
      "memory usage: 108.0+ KB\n",
      "<class 'pandas.core.frame.DataFrame'>\n",
      "RangeIndex: 832 entries, 0 to 831\n",
      "Data columns (total 14 columns):\n",
      "model                   832 non-null object\n",
      "displ                   832 non-null float64\n",
      "cyl                     832 non-null int64\n",
      "trans                   832 non-null object\n",
      "drive                   832 non-null object\n",
      "fuel                    832 non-null object\n",
      "cert_region             832 non-null object\n",
      "veh_class               832 non-null object\n",
      "air_pollution_score     832 non-null float64\n",
      "city_mpg                832 non-null float64\n",
      "hwy_mpg                 832 non-null float64\n",
      "cmb_mpg                 832 non-null float64\n",
      "greenhouse_gas_score    832 non-null int64\n",
      "smartway                832 non-null object\n",
      "dtypes: float64(5), int64(2), object(7)\n",
      "memory usage: 91.1+ KB\n"
     ]
    }
   ],
   "source": [
    "# load datasets\n",
    "import pandas as pd \n",
    "import matplotlib.pyplot as plt \n",
    "import numpy as np\n",
    "import seaborn as sns\n",
    "%matplotlib inline \n",
    "\n",
    "df_08 = pd.read_csv('clean_08.csv')\n",
    "df_18 = pd.read_csv('clean_18.csv')\n",
    "\n",
    "df_08.info()\n",
    "df_18.info()"
   ]
  },
  {
   "cell_type": "markdown",
   "metadata": {},
   "source": [
    "### Q1: Are more unique models using alternative sources of fuel? By how much?"
   ]
  },
  {
   "cell_type": "code",
   "execution_count": 2,
   "metadata": {},
   "outputs": [
    {
     "data": {
      "text/plain": [
       "fuel\n",
       "CNG           1\n",
       "Gasoline    984\n",
       "ethanol       1\n",
       "gas           1\n",
       "Name: model, dtype: int64"
      ]
     },
     "execution_count": 2,
     "metadata": {},
     "output_type": "execute_result"
    }
   ],
   "source": [
    "#find what are the alternative fuel sources \n",
    "df_08.groupby('fuel').count().model\n",
    "\n",
    "\n"
   ]
  },
  {
   "cell_type": "code",
   "execution_count": 3,
   "metadata": {},
   "outputs": [
    {
     "data": {
      "text/plain": [
       "fuel\n",
       "Diesel          19\n",
       "Electricity     12\n",
       "Ethanol         26\n",
       "Gas             26\n",
       "Gasoline       749\n",
       "Name: model, dtype: int64"
      ]
     },
     "execution_count": 3,
     "metadata": {},
     "output_type": "execute_result"
    }
   ],
   "source": [
    "#find what are the alternative fuel sources \n",
    "df_18.groupby('fuel').count().model"
   ]
  },
  {
   "cell_type": "code",
   "execution_count": 4,
   "metadata": {},
   "outputs": [
    {
     "data": {
      "text/plain": [
       "2"
      ]
     },
     "execution_count": 4,
     "metadata": {},
     "output_type": "execute_result"
    }
   ],
   "source": [
    "# how many unique models used alternative sources of fuel in 2008\n",
    "alt_08 = df_08.query('fuel in [\"CNG\", \"ethanol\"]').model.nunique()\n",
    "alt_08"
   ]
  },
  {
   "cell_type": "code",
   "execution_count": 5,
   "metadata": {},
   "outputs": [
    {
     "data": {
      "text/plain": [
       "26"
      ]
     },
     "execution_count": 5,
     "metadata": {},
     "output_type": "execute_result"
    }
   ],
   "source": [
    "# how many unique models used alternative sources of fuel in 2018\n",
    "alt_18 = df_18.query('fuel in [\"Ethanol\", \"Electricity\"]').model.nunique()\n",
    "alt_18"
   ]
  },
  {
   "cell_type": "code",
   "execution_count": 6,
   "metadata": {},
   "outputs": [
    {
     "data": {
      "image/png": "[encoded data removed]",
      "text/plain": [
       "<matplotlib.figure.Figure at 0x7f5a00d315f8>"
      ]
     },
     "metadata": {
      "needs_background": "light"
     },
     "output_type": "display_data"
    }
   ],
   "source": [
    "# Create a bar chart with 2008 and 2018 alt fuel values\n",
    "locations = [1, 2]\n",
    "heights = [alt_08, alt_18]\n",
    "labels = ['2008', '2018']\n",
    "plt.bar(locations, heights, tick_label=labels)\n",
    "plt.title('Number of Alt Fuel Cars 2008 v 2018')\n",
    "plt.ylabel('# of Cars')\n",
    "plt.xlabel('Year');"
   ]
  },
  {
   "cell_type": "markdown",
   "metadata": {},
   "source": [
    "### Q2: How much have vehicle classes improved in fuel economy?  "
   ]
  },
  {
   "cell_type": "code",
   "execution_count": 27,
   "metadata": {},
   "outputs": [],
   "source": [
    "#checking average combined fuel economy by vehicle class, 2018\n",
    "veh_18 = df_18.groupby('veh_class').mean().cmb_mpg.round()"
   ]
  },
  {
   "cell_type": "code",
   "execution_count": 28,
   "metadata": {},
   "outputs": [],
   "source": [
    "veh_08 = df_08.groupby('veh_class').mean().cmb_mpg.round()"
   ]
  },
  {
   "cell_type": "code",
   "execution_count": 9,
   "metadata": {},
   "outputs": [
    {
     "data": {
      "image/png": "[encoded data removed]",
      "text/plain": [
       "<matplotlib.figure.Figure at 0x7f59fea137f0>"
      ]
     },
     "metadata": {
      "needs_background": "light"
     },
     "output_type": "display_data"
    }
   ],
   "source": [
    "# plot values that are similar in a barchart \n",
    "\n",
    "#data to plot\n",
    "n_groups = 7\n",
    "means_08 = (18, 19, 22, 19, 16, 21, 22)\n",
    "means_18 = (18, 23, 28, 21, 19, 24, 28)\n",
    "\n",
    "#create plot\n",
    "\n",
    "fig, ax = plt.subplots()\n",
    "index = np.arange(n_groups)\n",
    "bar_width = 0.35\n",
    "opacity = 0.8\n",
    "\n",
    "rects1 = plt.bar(index, means_08, bar_width,\n",
    "alpha=opacity,\n",
    "color='b',\n",
    "label='2008 AVG CMB  MPG')\n",
    "\n",
    "rects2 = plt.bar(index + bar_width, means_18, bar_width,\n",
    "alpha=opacity,\n",
    "color='g',\n",
    "label='2018 AVG CMB MPG')\n",
    "\n",
    "plt.xlabel('Vehicle Type')\n",
    "plt.ylabel('AVG CMB MPG')\n",
    "plt.title('Average Combined MPG by Vehicle Type ')\n",
    "plt.xticks(index + bar_width, ('SUV', 'LG Car', 'MD Car', 'Minivan', 'Pickup', 'SM Car', 'Station Wagon'))\n",
    "plt.legend()\n",
    "\n",
    "plt.tight_layout()\n",
    "plt.show()"
   ]
  },
  {
   "cell_type": "code",
   "execution_count": null,
   "metadata": {},
   "outputs": [],
   "source": [
    "# how much they've increased by for each vehicle class\n",
    "inc = veh_18 - veh_08\n",
    "inc"
   ]
  },
  {
   "cell_type": "code",
   "execution_count": 30,
   "metadata": {},
   "outputs": [
    {
     "data": {
      "image/png": "[encoded data removed]",
      "text/plain": [
       "<matplotlib.figure.Figure at 0x7f59fe52a908>"
      ]
     },
     "metadata": {
      "needs_background": "light"
     },
     "output_type": "display_data"
    }
   ],
   "source": [
    "# only plot the classes that exist in both years\n",
    "inc.dropna(inplace=True)\n",
    "plt.subplots(figsize=(8, 5))\n",
    "plt.bar(inc.index, inc)\n",
    "plt.title('Improvements in Fuel Economy from 2008 to 2018 by Vehicle Class')\n",
    "plt.xlabel('Vehicle Class')\n",
    "plt.ylabel('Increase in Average Combined MPG');"
   ]
  },
  {
   "cell_type": "markdown",
   "metadata": {},
   "source": [
    "### Q3: What are the characteristics of SmartWay vehicles? Have they changed over time?"
   ]
  },
  {
   "cell_type": "code",
   "execution_count": 10,
   "metadata": {},
   "outputs": [
    {
     "data": {
      "text/plain": [
       "array(['No', 'Yes', 'Elite'], dtype=object)"
      ]
     },
     "execution_count": 10,
     "metadata": {},
     "output_type": "execute_result"
    }
   ],
   "source": [
    "#see what unique values are in the smartway column \n",
    "df_18['smartway'].unique()\n"
   ]
  },
  {
   "cell_type": "code",
   "execution_count": 11,
   "metadata": {},
   "outputs": [],
   "source": [
    "#filter datasets for rows that are/are not smartway cars\n",
    "smartway_no = df_18.query('smartway == \"No\"')\n",
    "smartway_yes = df_18.query('smartway in [\"Yes\", \"Elite\"]')"
   ]
  },
  {
   "cell_type": "code",
   "execution_count": 12,
   "metadata": {},
   "outputs": [
    {
     "data": {
      "text/plain": [
       "array(['Yes', 'Elite'], dtype=object)"
      ]
     },
     "execution_count": 12,
     "metadata": {},
     "output_type": "execute_result"
    }
   ],
   "source": [
    "#confirm changes have been made \n",
    "smartway_yes['smartway'].unique()"
   ]
  },
  {
   "cell_type": "code",
   "execution_count": 13,
   "metadata": {},
   "outputs": [
    {
     "data": {
      "text/plain": [
       "array(['No'], dtype=object)"
      ]
     },
     "execution_count": 13,
     "metadata": {},
     "output_type": "execute_result"
    }
   ],
   "source": [
    "#confirm changes have been made \n",
    "smartway_no['smartway'].unique()"
   ]
  },
  {
   "cell_type": "code",
   "execution_count": 14,
   "metadata": {},
   "outputs": [],
   "source": [
    "mean_smartway_no = smartway_no.mean().round()\n",
    "mean_smartway_yes = smartway_yes.mean().round()"
   ]
  },
  {
   "cell_type": "code",
   "execution_count": 15,
   "metadata": {},
   "outputs": [
    {
     "data": {
      "text/plain": [
       "displ                    3.0\n",
       "cyl                      6.0\n",
       "air_pollution_score      4.0\n",
       "city_mpg                19.0\n",
       "hwy_mpg                 27.0\n",
       "cmb_mpg                 22.0\n",
       "greenhouse_gas_score     4.0\n",
       "dtype: float64"
      ]
     },
     "execution_count": 15,
     "metadata": {},
     "output_type": "execute_result"
    }
   ],
   "source": [
    "mean_smartway_no"
   ]
  },
  {
   "cell_type": "code",
   "execution_count": 16,
   "metadata": {},
   "outputs": [
    {
     "data": {
      "text/plain": [
       "displ                    2.0\n",
       "cyl                      4.0\n",
       "air_pollution_score      5.0\n",
       "city_mpg                35.0\n",
       "hwy_mpg                 41.0\n",
       "cmb_mpg                 37.0\n",
       "greenhouse_gas_score     8.0\n",
       "dtype: float64"
      ]
     },
     "execution_count": 16,
     "metadata": {},
     "output_type": "execute_result"
    }
   ],
   "source": [
    "mean_smartway_yes"
   ]
  },
  {
   "cell_type": "code",
   "execution_count": 17,
   "metadata": {},
   "outputs": [
    {
     "data": {
      "image/png": "[encoded data removed]",
      "text/plain": [
       "<matplotlib.figure.Figure at 0x7f59fe9fc8d0>"
      ]
     },
     "metadata": {
      "needs_background": "light"
     },
     "output_type": "display_data"
    }
   ],
   "source": [
    "# plot values that are similar in a barchart \n",
    "\n",
    "#data to plot\n",
    "n_groups = 7\n",
    "Smartway_No = (3,6,4,19,27,22,4)\n",
    "Smartway_Yes_Elite = (2,4,5,35,41,37,8)\n",
    "\n",
    "#create plot\n",
    "\n",
    "fig, ax = plt.subplots()\n",
    "index = np.arange(n_groups)\n",
    "bar_width = 0.35\n",
    "opacity = 0.8\n",
    "\n",
    "rects1 = plt.bar(index, Smartway_No, bar_width,\n",
    "alpha=opacity,\n",
    "color='b',\n",
    "label='Non-Smartway Cars')\n",
    "\n",
    "rects2 = plt.bar(index + bar_width, Smartway_Yes_Elite, bar_width,\n",
    "alpha=opacity,\n",
    "color='g',\n",
    "label='Smartway Cars')\n",
    "\n",
    "\n",
    "plt.title('Comparison between Smartway / Non Smartway Cars')\n",
    "plt.xticks(index + bar_width, ('displ', 'cyl', 'ap score', 'cty mpg', 'h mpg', 'cb mpg', 'ghg score'))\n",
    "plt.legend()\n",
    "\n",
    "plt.show()"
   ]
  },
  {
   "cell_type": "markdown",
   "metadata": {},
   "source": [
    "### Q4: What features are associated with better fuel economy?"
   ]
  },
  {
   "cell_type": "code",
   "execution_count": 18,
   "metadata": {},
   "outputs": [
    {
     "data": {
      "text/plain": [
       "23.0"
      ]
     },
     "execution_count": 18,
     "metadata": {},
     "output_type": "execute_result"
    }
   ],
   "source": [
    "#Define was is good mpg by finding the quartiles \n",
    "median = df_18['cmb_mpg'].median()\n",
    "median"
   ]
  },
  {
   "cell_type": "code",
   "execution_count": 19,
   "metadata": {},
   "outputs": [
    {
     "name": "stdout",
     "output_type": "stream",
     "text": [
      "<class 'pandas.core.frame.DataFrame'>\n",
      "Int64Index: 451 entries, 0 to 831\n",
      "Data columns (total 14 columns):\n",
      "model                   451 non-null object\n",
      "displ                   451 non-null float64\n",
      "cyl                     451 non-null int64\n",
      "trans                   451 non-null object\n",
      "drive                   451 non-null object\n",
      "fuel                    451 non-null object\n",
      "cert_region             451 non-null object\n",
      "veh_class               451 non-null object\n",
      "air_pollution_score     451 non-null float64\n",
      "city_mpg                451 non-null float64\n",
      "hwy_mpg                 451 non-null float64\n",
      "cmb_mpg                 451 non-null float64\n",
      "greenhouse_gas_score    451 non-null int64\n",
      "smartway                451 non-null object\n",
      "dtypes: float64(5), int64(2), object(7)\n",
      "memory usage: 52.9+ KB\n"
     ]
    }
   ],
   "source": [
    "# Use query to select high combined mpg cars \n",
    "high_mpg_cars = df_18.query('cmb_mpg >= {}'.format(median))\n",
    "\n",
    "high_mpg_cars.info()"
   ]
  },
  {
   "cell_type": "code",
   "execution_count": 20,
   "metadata": {},
   "outputs": [],
   "source": [
    "#Lets take a look at the proportion of drive types for both segments\n",
    "drive_high = high_mpg_cars.drive.value_counts() / 451"
   ]
  },
  {
   "cell_type": "code",
   "execution_count": 21,
   "metadata": {},
   "outputs": [
    {
     "data": {
      "image/png": "[encoded data removed]",
      "text/plain": [
       "<matplotlib.figure.Figure at 0x7f5a00a8b400>"
      ]
     },
     "metadata": {},
     "output_type": "display_data"
    }
   ],
   "source": [
    "#Now plot the value of 4WD + 2WD cars that have high combined MPG \n",
    "#data to plot\n",
    "drive_high.plot(kind='pie', figsize = (4,4), title = 'Proportion of Drive Type - High Combined MPG Cars');\n"
   ]
  },
  {
   "cell_type": "markdown",
   "metadata": {},
   "source": [
    "It looks like cars with higher fuel economy are more likely to be 2wd cars "
   ]
  },
  {
   "cell_type": "markdown",
   "metadata": {},
   "source": [
    "lets take a look at the distribution of cyl that low v high mpg cars tend to have "
   ]
  },
  {
   "cell_type": "code",
   "execution_count": 22,
   "metadata": {},
   "outputs": [
    {
     "data": {
      "text/plain": [
       "4    0.773836\n",
       "6    0.184035\n",
       "3    0.042129\n",
       "Name: cyl, dtype: float64"
      ]
     },
     "execution_count": 22,
     "metadata": {},
     "output_type": "execute_result"
    }
   ],
   "source": [
    "cyl_high = high_mpg_cars.cyl.value_counts() / 451\n",
    "\n",
    "cyl_high"
   ]
  },
  {
   "cell_type": "code",
   "execution_count": 23,
   "metadata": {},
   "outputs": [
    {
     "data": {
      "image/png": "[encoded data removed]",
      "text/plain": [
       "<matplotlib.figure.Figure at 0x7f59fe897be0>"
      ]
     },
     "metadata": {},
     "output_type": "display_data"
    }
   ],
   "source": [
    "#lets plot the results for High MPG cars \n",
    "cyl_high.plot(kind='pie', figsize = (4,4), title = 'Proportion of # Cyls - High Combined MPG Cars');\n"
   ]
  },
  {
   "cell_type": "markdown",
   "metadata": {},
   "source": [
    "Cars that have high MPG are more likely to have 4 Cylinders"
   ]
  },
  {
   "cell_type": "code",
   "execution_count": 24,
   "metadata": {},
   "outputs": [
    {
     "data": {
      "text/plain": [
       "small car          0.399113\n",
       "midsize car        0.248337\n",
       "small SUV          0.157428\n",
       "large car          0.095344\n",
       "station wagon      0.070953\n",
       "standard SUV       0.015521\n",
       "pickup             0.008869\n",
       "special purpose    0.004435\n",
       "Name: veh_class, dtype: float64"
      ]
     },
     "execution_count": 24,
     "metadata": {},
     "output_type": "execute_result"
    }
   ],
   "source": [
    "#let's look at what are the vehicle classes that have high combined mpg \n",
    "veh_class_high = high_mpg_cars.veh_class.value_counts() / 451\n",
    "\n",
    "veh_class_high"
   ]
  },
  {
   "cell_type": "code",
   "execution_count": 25,
   "metadata": {},
   "outputs": [
    {
     "data": {
      "image/png": "[encoded data removed]",
      "text/plain": [
       "<matplotlib.figure.Figure at 0x7f59fe919518>"
      ]
     },
     "metadata": {
      "needs_background": "light"
     },
     "output_type": "display_data"
    }
   ],
   "source": [
    "#Let's plot the results above \n",
    "\n",
    "veh_class_high.plot(kind='bar', figsize = (4,4), title = 'Proportion of Vehicle classes - High Combined MPG Cars');"
   ]
  },
  {
   "cell_type": "markdown",
   "metadata": {},
   "source": [
    "Small and Midsized cars are the most likely vehicle class of better fuel economy cars "
   ]
  }
 ],
 "metadata": {
  "kernelspec": {
   "display_name": "Python 3",
   "language": "python",
   "name": "python3"
  },
  "language_info": {
   "codemirror_mode": {
    "name": "ipython",
    "version": 3
   },
   "file_extension": ".py",
   "mimetype": "text/x-python",
   "name": "python",
   "nbconvert_exporter": "python",
   "pygments_lexer": "ipython3",
   "version": "3.6.3"
  }
 },
 "nbformat": 4,
 "nbformat_minor": 2
}
