{
 "cells": [
  {
   "cell_type": "markdown",
   "metadata": {
    "collapsed": true
   },
   "source": [
    "# Inspecting Data Types\n",
    "Use the space below to explore `data_08_v2.csv` and `data_18_v2.csv` to answer the quiz questions below regarding datatypes. You should've created these data files in the previous section: *Filter, Drop Nulls, Dedupe*."
   ]
  },
  {
   "cell_type": "code",
   "execution_count": 3,
   "metadata": {},
   "outputs": [],
   "source": [
    "import pandas as pd \n",
    "df_08 = pd.read_csv('data_08_v2.csv')\n",
    "df_18 = pd.read_csv('data_18_v2.csv')\n"
   ]
  },
  {
   "cell_type": "code",
   "execution_count": 7,
   "metadata": {},
   "outputs": [
    {
     "name": "stdout",
     "output_type": "stream",
     "text": [
      "<class 'pandas.core.frame.DataFrame'>\n",
      "RangeIndex: 986 entries, 0 to 985\n",
      "Data columns (total 14 columns):\n",
      "model                   986 non-null object\n",
      "displ                   986 non-null float64\n",
      "cyl                     986 non-null object\n",
      "trans                   986 non-null object\n",
      "drive                   986 non-null object\n",
      "fuel                    986 non-null object\n",
      "cert_region             986 non-null object\n",
      "veh_class               986 non-null object\n",
      "air_pollution_score     986 non-null object\n",
      "city_mpg                986 non-null object\n",
      "hwy_mpg                 986 non-null object\n",
      "cmb_mpg                 986 non-null object\n",
      "greenhouse_gas_score    986 non-null object\n",
      "smartway                986 non-null object\n",
      "dtypes: float64(1), object(13)\n",
      "memory usage: 107.9+ KB\n"
     ]
    }
   ],
   "source": [
    "#checking data types for df_08\n",
    "df_08.info()\n"
   ]
  },
  {
   "cell_type": "code",
   "execution_count": 8,
   "metadata": {},
   "outputs": [
    {
     "name": "stdout",
     "output_type": "stream",
     "text": [
      "<class 'pandas.core.frame.DataFrame'>\n",
      "RangeIndex: 794 entries, 0 to 793\n",
      "Data columns (total 14 columns):\n",
      "model                   794 non-null object\n",
      "displ                   794 non-null float64\n",
      "cyl                     794 non-null float64\n",
      "trans                   794 non-null object\n",
      "drive                   794 non-null object\n",
      "fuel                    794 non-null object\n",
      "cert_region             794 non-null object\n",
      "veh_class               794 non-null object\n",
      "air_pollution_score     794 non-null int64\n",
      "city_mpg                794 non-null object\n",
      "hwy_mpg                 794 non-null object\n",
      "cmb_mpg                 794 non-null object\n",
      "greenhouse_gas_score    794 non-null int64\n",
      "smartway                794 non-null object\n",
      "dtypes: float64(2), int64(2), object(10)\n",
      "memory usage: 86.9+ KB\n"
     ]
    }
   ],
   "source": [
    "#checking data types for df_18\n",
    "df_18.info()"
   ]
  },
  {
   "cell_type": "code",
   "execution_count": null,
   "metadata": {},
   "outputs": [],
   "source": []
  }
 ],
 "metadata": {
  "kernelspec": {
   "display_name": "Python 3",
   "language": "python",
   "name": "python3"
  },
  "language_info": {
   "codemirror_mode": {
    "name": "ipython",
    "version": 3
   },
   "file_extension": ".py",
   "mimetype": "text/x-python",
   "name": "python",
   "nbconvert_exporter": "python",
   "pygments_lexer": "ipython3",
   "version": "3.6.3"
  }
 },
 "nbformat": 4,
 "nbformat_minor": 2
}
